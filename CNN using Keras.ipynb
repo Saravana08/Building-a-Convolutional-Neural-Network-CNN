{
 "cells": [
  {
   "cell_type": "code",
   "execution_count": 1,
   "metadata": {
    "collapsed": true
   },
   "outputs": [],
   "source": [
    "import cv2 \n",
    "import os \n",
    "import numpy as np \n",
    "from random import shuffle \n",
    "from tqdm import tqdm "
   ]
  },
  {
   "cell_type": "code",
   "execution_count": 2,
   "metadata": {},
   "outputs": [
    {
     "name": "stderr",
     "output_type": "stream",
     "text": [
      "100%|██████████| 25000/25000 [00:46<00:00, 536.27it/s]\n"
     ]
    }
   ],
   "source": [
    "#'''Setting up the env'''\n",
    "  \n",
    "TRAIN_DIR = r'D:\\Dropbox (eClerx Services Ltd.)\\Profile\\Downloads\\dogs-vs-cats\\train\\train'\n",
    "TEST_DIR = r'D:\\Dropbox (eClerx Services Ltd.)\\Profile\\Downloads\\dogs-vs-cats\\test1\\test1'\n",
    "IMG_SIZE = 50\n",
    "  \n",
    "#'''Labelling the dataset'''\n",
    "def label_img(img): \n",
    "    word_label = img.split('.')[-3] \n",
    "    # DIY One hot encoder \n",
    "    if word_label == 'cat': return [1, 0] \n",
    "    elif word_label == 'dog': return [0, 1] \n",
    "\n",
    "#'''Creating the training data'''\n",
    "def create_train_data(): \n",
    "    # Creating an empty list where we should store the training data \n",
    "    # after a little preprocessing of the data \n",
    "    training_data = [] \n",
    "    # tqdm is only used for interactive loading \n",
    "    # loading the training data \n",
    "    for img in tqdm(os.listdir(TRAIN_DIR)): \n",
    "        # labeling the images \n",
    "        label = label_img(img)   \n",
    "        path = os.path.join(TRAIN_DIR, img) \n",
    "        # loading the image from the path and then converting them into \n",
    "        # greyscale for easier covnet prob \n",
    "        img = cv2.imread(path, cv2.IMREAD_GRAYSCALE) \n",
    "        # resizing the image for processing them in the covnet \n",
    "        img = cv2.resize(img, (IMG_SIZE, IMG_SIZE)) \n",
    "        # final step-forming the training data list with numpy array of the images \n",
    "        training_data.append([np.array(img), np.array(label)]) \n",
    "    # shuffling of the training data to preserve the random state of our data \n",
    "    shuffle(training_data) \n",
    "    # saving our trained data for further uses if required \n",
    "    np.save('train_data.npy', training_data) \n",
    "    return training_data \n",
    "  \n",
    "# '''Running the training and the testing in the dataset for our model'''\n",
    "train_data = create_train_data()"
   ]
  }
 ],
 "metadata": {
  "kernelspec": {
   "display_name": "Python 3",
   "language": "python",
   "name": "python3"
  },
  "language_info": {
   "codemirror_mode": {
    "name": "ipython",
    "version": 3
   },
   "file_extension": ".py",
   "mimetype": "text/x-python",
   "name": "python",
   "nbconvert_exporter": "python",
   "pygments_lexer": "ipython3",
   "version": "3.6.2"
  }
 },
 "nbformat": 4,
 "nbformat_minor": 2
}
