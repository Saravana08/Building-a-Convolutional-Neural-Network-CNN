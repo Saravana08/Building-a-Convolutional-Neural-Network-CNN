{
 "cells": [
  {
   "cell_type": "code",
   "execution_count": 3,
   "metadata": {
    "collapsed": true
   },
   "outputs": [],
   "source": [
    "import cv2 \n",
    "import os \n",
    "import numpy as np \n",
    "from random import shuffle "
   ]
  },
  {
   "cell_type": "code",
   "execution_count": 4,
   "metadata": {
    "collapsed": true
   },
   "outputs": [],
   "source": [
    "train_dr = r'D:\\Dropbox (eClerx Services Ltd.)\\Profile\\Downloads\\mount-vs-ocean\\train'\n",
    "image_size=50\n",
    "\n",
    "def create_train_data(): \n",
    "    training_data = [] \n",
    "    for img in (os.listdir(train_dr)): \n",
    "        path = os.path.join(train_dr, img)\n",
    "        # loading the image from the path and then converting them into \n",
    "        # greyscale for easier covnet prob \n",
    "        img = cv2.imread(path, cv2.IMREAD_GRAYSCALE) \n",
    "        # resizing the image for processing them in the covnet \n",
    "        img = cv2.resize(img, (image_size, image_size)) \n",
    "        # final step-forming the training data list with numpy array of the images \n",
    "        training_data.append([np.array(img)]) \n",
    "    # saving our trained data for further uses if required \n",
    "    return training_data \n"
   ]
  },
  {
   "cell_type": "code",
   "execution_count": 6,
   "metadata": {},
   "outputs": [
    {
     "name": "stdout",
     "output_type": "stream",
     "text": [
      "[[array([[172, 180, 186, ..., 220, 213, 207],\n",
      "       [172, 179, 187, ..., 221, 216, 210],\n",
      "       [171, 179, 181, ..., 219, 217, 215],\n",
      "       ...,\n",
      "       [134, 137, 140, ...,   5,   5,   5],\n",
      "       [129, 134, 136, ...,   3,   3,   3],\n",
      "       [126, 131, 134, ...,   2,   2,   2]], dtype=uint8)], [array([[ 42,  58,  38, ...,  96,  93, 193],\n",
      "       [ 43,  45,  44, ...,  82,  81, 203],\n",
      "       [ 43,  43,  45, ...,  87,  88, 193],\n",
      "       ...,\n",
      "       [ 25,  20,  25, ...,  40,  68,  74],\n",
      "       [ 20,  21,  22, ...,  77,  38,  93],\n",
      "       [ 23,  22,  20, ...,  57,  62,  29]], dtype=uint8)], [array([[ 69,  46,  52, ..., 143, 187, 138],\n",
      "       [189, 190, 199, ..., 142, 145, 144],\n",
      "       [200, 201, 193, ..., 135, 148, 147],\n",
      "       ...,\n",
      "       [123, 183, 169, ...,  65,  60,  53],\n",
      "       [ 77, 189, 170, ...,  35,  54,  58],\n",
      "       [ 59, 181, 177, ...,  53,  37,  32]], dtype=uint8)], [array([[174, 185, 191, ..., 177, 183, 181],\n",
      "       [172, 162, 165, ..., 177, 183, 178],\n",
      "       [189, 149, 174, ..., 189, 173, 189],\n",
      "       ...,\n",
      "       [134, 137, 152, ..., 176, 189, 182],\n",
      "       [172, 165, 143, ..., 179, 211, 157],\n",
      "       [153, 162, 170, ..., 198, 150, 197]], dtype=uint8)], [array([[ 27,  42,  11, ...,  16, 154, 170],\n",
      "       [ 89, 162,  78, ..., 133,  96, 147],\n",
      "       [198, 200, 198, ..., 132, 132, 141],\n",
      "       ...,\n",
      "       [118, 119, 120, ...,  85,  91,  93],\n",
      "       [120, 119, 123, ...,  91,  93,  95],\n",
      "       [120, 120, 118, ...,  97, 103, 100]], dtype=uint8)], [array([[175, 173, 178, ..., 245, 247, 246],\n",
      "       [198, 193, 197, ..., 246, 246, 245],\n",
      "       [188, 193, 205, ..., 246, 246, 246],\n",
      "       ...,\n",
      "       [197, 197, 202, ..., 226, 243, 228],\n",
      "       [213, 198, 205, ..., 244, 229, 219],\n",
      "       [250, 249, 248, ..., 247, 215, 213]], dtype=uint8)], [array([[192, 192, 195, ...,  51,  47,  41],\n",
      "       [192, 192, 190, ...,  49,  46,  39],\n",
      "       [195, 193, 193, ...,  45,  42,  38],\n",
      "       ...,\n",
      "       [102, 121, 119, ...,  85,  94,  50],\n",
      "       [120, 115, 113, ...,  96, 108, 106],\n",
      "       [120, 114, 113, ..., 120, 111, 116]], dtype=uint8)], [array([[ 50,  60,  63, ...,   7,   8,   7],\n",
      "       [ 58,  64,  72, ...,  63,  40,  20],\n",
      "       [ 56,  62,  67, ..., 230, 226, 225],\n",
      "       ...,\n",
      "       [ 20,  35,  29, ...,  22,  37,   4],\n",
      "       [ 17,  12,  35, ...,  20,  11,   8],\n",
      "       [  6,  42, 130, ...,  14,  16,  11]], dtype=uint8)]]\n"
     ]
    }
   ],
   "source": [
    "training_data = create_train_data()\n",
    "print(training_data)"
   ]
  }
 ],
 "metadata": {
  "kernelspec": {
   "display_name": "Python 3",
   "language": "python",
   "name": "python3"
  },
  "language_info": {
   "codemirror_mode": {
    "name": "ipython",
    "version": 3
   },
   "file_extension": ".py",
   "mimetype": "text/x-python",
   "name": "python",
   "nbconvert_exporter": "python",
   "pygments_lexer": "ipython3",
   "version": "3.6.2"
  }
 },
 "nbformat": 4,
 "nbformat_minor": 2
}
